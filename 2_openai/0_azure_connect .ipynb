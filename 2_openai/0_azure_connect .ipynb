{
 "cells": [
  {
   "cell_type": "markdown",
   "id": "6a9b0140",
   "metadata": {},
   "source": [
    "**Imports**"
   ]
  },
  {
   "cell_type": "code",
   "execution_count": 23,
   "id": "b20e6bf3",
   "metadata": {},
   "outputs": [
    {
     "data": {
      "text/plain": [
       "True"
      ]
     },
     "execution_count": 23,
     "metadata": {},
     "output_type": "execute_result"
    }
   ],
   "source": [
    "import os\n",
    "# import asyncio # not needed in jupyter notebook, just for standalone python scripts\n",
    "from dotenv import load_dotenv\n",
    "from openai import AsyncAzureOpenAI\n",
    "from agents import (\n",
    "    set_default_openai_client,\n",
    "    set_default_openai_api,\n",
    "    set_tracing_disabled,\n",
    "    Agent,\n",
    "    Runner,\n",
    "    trace\n",
    ")\n",
    "\n",
    "load_dotenv()"
   ]
  },
  {
   "cell_type": "code",
   "execution_count": null,
   "id": "214e1be6",
   "metadata": {},
   "outputs": [],
   "source": [
    "#print the environment variables\n",
    "\n",
    "print(os.getenv('AZURE_OPENAI_API_KEY'))\n",
    "print(os.getenv('AZURE_OPENAI_API_VERSION'))\n",
    "print(os.getenv('AZURE_OPENAI_ENDPOINT'))\n",
    "print(os.getenv('AZURE_OPENAI_DEPLOYMENT'))\n",
    "print(os.getenv('AZURE_APPLICATIONINSIGHTS_CONNECTION_STRING'))"
   ]
  },
  {
   "cell_type": "markdown",
   "id": "1d2058e0",
   "metadata": {},
   "source": [
    "**Set Azure Client as default OpenAI Client**"
   ]
  },
  {
   "cell_type": "code",
   "execution_count": 24,
   "id": "3fe18508",
   "metadata": {},
   "outputs": [],
   "source": [
    "# Set up Azure OpenAI client\n",
    "azure_client = AsyncAzureOpenAI(\n",
    "    api_key=os.environ[\"AZURE_OPENAI_API_KEY\"],\n",
    "    api_version=os.environ[\"AZURE_OPENAI_API_VERSION\"],\n",
    "    azure_endpoint=os.environ[\"AZURE_OPENAI_ENDPOINT\"]\n",
    ")\n",
    "\n",
    "# Set this client as the default for the Agents SDK\n",
    "set_default_openai_client(azure_client)\n",
    "set_default_openai_api(\"chat_completions\") # is needed for the Agents SDK with Azure at the moment\n",
    "set_tracing_disabled(False) # is needed for the Agents SDK with Azure at the moment\n",
    "\n",
    "\n",
    "# Define the model — must match your Azure deployment name\n",
    "azure_model_deployment = os.getenv(\"AZURE_OPENAI_DEPLOYMENT\")"
   ]
  },
  {
   "cell_type": "markdown",
   "id": "1cf7a991",
   "metadata": {},
   "source": [
    "**Azure Traceing**\n",
    "\n",
    "Install azure-ai-projects, azure-monitor-opentelemetry, and opentelemetry-instrumentation-openai-v2 in your environment. The following example uses pip:"
   ]
  },
  {
   "cell_type": "code",
   "execution_count": null,
   "id": "be7b5c53",
   "metadata": {},
   "outputs": [],
   "source": [
    "!uv pip install azure-ai-projects azure-monitor-opentelemetry opentelemetry-instrumentation-openai-v2"
   ]
  },
  {
   "cell_type": "code",
   "execution_count": 31,
   "id": "3e72a893",
   "metadata": {},
   "outputs": [],
   "source": [
    "# Instrument the OpenAI SDK by using OpenAIInstrumentor():\n",
    "from opentelemetry.instrumentation.openai_v2 import OpenAIInstrumentor\n",
    "from azure.monitor.opentelemetry import configure_azure_monitor\n",
    "from opentelemetry import trace\n",
    "os.environ[\"OTEL_INSTRUMENTATION_GENAI_CAPTURE_MESSAGE_CONTENT\"] = \"true\"\n",
    "\n",
    "OpenAIInstrumentor().instrument()\n",
    "\n",
    "azure_appl_insights_connection_string=os.getenv('AZURE_APPLICATIONINSIGHTS_CONNECTION_STRING')\n",
    "configure_azure_monitor(connection_string=azure_appl_insights_connection_string)\n",
    "\n",
    "tracer = trace.get_tracer(__name__)"
   ]
  },
  {
   "cell_type": "markdown",
   "id": "0725b232",
   "metadata": {},
   "source": [
    "**Make an agent with name, instructions, model**"
   ]
  },
  {
   "cell_type": "code",
   "execution_count": 26,
   "id": "758fa452",
   "metadata": {},
   "outputs": [],
   "source": [
    "# Define your agent\n",
    "agent = Agent(\n",
    "    name=\"Jokester\",\n",
    "    instructions=\"You are a witty AI that tells jokes.\",\n",
    "    model=azure_model_deployment\n",
    ")"
   ]
  },
  {
   "cell_type": "markdown",
   "id": "20b3b0f3",
   "metadata": {},
   "source": [
    "**Test if credintials OK und Azure Model Aufruf is working**"
   ]
  },
  {
   "cell_type": "code",
   "execution_count": 27,
   "id": "f9fb2d8f",
   "metadata": {},
   "outputs": [
    {
     "name": "stdout",
     "output_type": "stream",
     "text": [
      "Why did the AI go broke?  \n",
      "\n",
      "Because it lost all its cache!\n"
     ]
    }
   ],
   "source": [
    "# check to ensure azure_model_deployment is not None before calling the API:\n",
    "if not azure_model_deployment:\n",
    "    raise ValueError(\"AZURE_OPENAI_DEPLOYMENT environment variable is not set.\") \n",
    "\n",
    "response = await azure_client.chat.completions.create(\n",
    "    model=azure_model_deployment,\n",
    "    messages=[\n",
    "        {\"role\": \"system\", \"content\": \"You are a witty AI that tells jokes.\"},\n",
    "        {\"role\": \"user\", \"content\": \"Tell a short AI-related joke.\"}\n",
    "    ]\n",
    ")\n",
    "print(response.choices[0].message.content)"
   ]
  },
  {
   "cell_type": "code",
   "execution_count": 32,
   "id": "1ade890c",
   "metadata": {},
   "outputs": [
    {
     "name": "stdout",
     "output_type": "stream",
     "text": [
      "Why did the AI break up with its algorithm?\n",
      "\n",
      "It found the relationship too *complex*!\n"
     ]
    }
   ],
   "source": [
    "# Async main\n",
    "async def main():\n",
    "    with tracer.start_as_current_span(\"Joke run\"):\n",
    "        result = await Runner.run(agent, \"Tell a short AI-related joke.\")\n",
    "        print(result.final_output)\n",
    "\n",
    "# In Jupyter/IPython or Cursor:\n",
    "await main()\n",
    "\n",
    "# In standalone scripts:\n",
    "# asyncio.run(main())"
   ]
  },
  {
   "cell_type": "markdown",
   "id": "2add64d3",
   "metadata": {},
   "source": [
    "**Lokales Traceing**"
   ]
  },
  {
   "cell_type": "code",
   "execution_count": null,
   "id": "06510162",
   "metadata": {},
   "outputs": [],
   "source": [
    "import time\n",
    "from datetime import datetime, timezone\n",
    "import json\n",
    "from contextlib import contextmanager\n",
    "\n",
    "\n",
    "class AzureLocalTracer:\n",
    "    def __init__(self, run_name: str, log_file: str = \"azure_trace_log.jsonl\"):\n",
    "        self.run_name = run_name\n",
    "        self.log_file = log_file\n",
    "        self.start_time = None\n",
    "        self.end_time = None\n",
    "        self.events = []\n",
    "\n",
    "    def log_event(self, event_type, data):\n",
    "        timestamp = datetime.now(timezone.utc).isoformat()\n",
    "        self.events.append({\"timestamp\": timestamp, \"type\": event_type, \"data\": data})\n",
    "\n",
    "    def save_trace(self):\n",
    "        trace_data = {\n",
    "            \"run_name\": self.run_name,\n",
    "            \"start_time\": self.start_time,\n",
    "            \"end_time\": self.end_time,\n",
    "            \"duration_seconds\": (\n",
    "                (self.end_time - self.start_time)\n",
    "                if self.start_time is not None and self.end_time is not None\n",
    "                else None\n",
    "            ),\n",
    "            \"events\": self.events,\n",
    "        }\n",
    "        with open(self.log_file, \"a\", encoding=\"utf-8\") as f:\n",
    "            f.write(json.dumps(trace_data) + \"\\n\")\n",
    "\n",
    "    @contextmanager\n",
    "    def trace(self):\n",
    "        self.start_time = time.time()\n",
    "        self.log_event(\"start\", {\"message\": f\"Run '{self.run_name}' started\"})\n",
    "        try:\n",
    "            yield self\n",
    "        finally:\n",
    "            self.end_time = time.time()\n",
    "            self.log_event(\"end\", {\"message\": f\"Run '{self.run_name}' ended\"})\n",
    "            self.save_trace()"
   ]
  },
  {
   "cell_type": "markdown",
   "id": "5dc36246",
   "metadata": {},
   "source": [
    "**with local tracer**"
   ]
  },
  {
   "cell_type": "code",
   "execution_count": 7,
   "id": "7917db0c",
   "metadata": {},
   "outputs": [
    {
     "name": "stdout",
     "output_type": "stream",
     "text": [
      "Why did the AI become a stand-up comedian?  \n",
      "\n",
      "Because it had a *byte* for humor!\n"
     ]
    }
   ],
   "source": [
    "## from tracer import AzureLocalTracer  # falls du die Klasse in tracer.py speicherst\n",
    "\n",
    "tracer = AzureLocalTracer(\"Joke run\")\n",
    "\n",
    "async def main():\n",
    "    with tracer.trace():\n",
    "        question = \"Tell a short AI-related joke.\"\n",
    "        tracer.log_event(\"input\", {\"question\": question})\n",
    "        result = await Runner.run(agent, question)\n",
    "        tracer.log_event(\"output\", {\"result\": result.final_output})\n",
    "        print(result.final_output)\n",
    "\n",
    "# in Notebook direkt:\n",
    "await main()\n"
   ]
  },
  {
   "cell_type": "code",
   "execution_count": 29,
   "id": "f976f68a",
   "metadata": {},
   "outputs": [
    {
     "name": "stdout",
     "output_type": "stream",
     "text": [
      "2 + 2 equals 4.\n"
     ]
    }
   ],
   "source": [
    "#trace testing\n",
    "\n",
    "from openai import AzureOpenAI\n",
    "testclient = AzureOpenAI(\n",
    "    api_key=os.environ[\"AZURE_OPENAI_API_KEY\"],\n",
    "    api_version=\"2025-01-01-preview\",  # << Wichtig hier\n",
    "    azure_endpoint=\"https://ai-initiative-azure-openai.openai.azure.com/openai/deployments/gpt-4o-2/chat/completions?api-version=2025-01-01-preview\"\n",
    ")\n",
    "\n",
    "messages = [{\"role\": \"user\", \"content\": \"What is 2+2?\"}]\n",
    "\n",
    "response = testclient.chat.completions.create(\n",
    "    model=\"gpt-4o-2\",\n",
    "    messages=messages #type: ignore\n",
    ")\n",
    "\n",
    "print(response.choices[0].message.content)"
   ]
  }
 ],
 "metadata": {
  "kernelspec": {
   "display_name": ".venv",
   "language": "python",
   "name": "python3"
  },
  "language_info": {
   "codemirror_mode": {
    "name": "ipython",
    "version": 3
   },
   "file_extension": ".py",
   "mimetype": "text/x-python",
   "name": "python",
   "nbconvert_exporter": "python",
   "pygments_lexer": "ipython3",
   "version": "3.12.3"
  }
 },
 "nbformat": 4,
 "nbformat_minor": 5
}
